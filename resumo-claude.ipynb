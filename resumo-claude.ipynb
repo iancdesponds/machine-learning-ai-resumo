{
 "cells": [
  {
   "cell_type": "markdown",
   "metadata": {},
   "source": [
    "# Resumo de Machine Learning para Prova Intermediária"
   ]
  },
  {
   "cell_type": "code",
   "execution_count": 1,
   "metadata": {},
   "outputs": [],
   "source": [
    "import numpy as np\n",
    "import matplotlib.pyplot as plt\n",
    "from sklearn.decomposition import TruncatedSVD\n",
    "from sklearn.cluster import KMeans\n",
    "from sklearn.metrics import silhouette_score\n",
    "from sklearn.linear_model import LinearRegression\n",
    "from sklearn.model_selection import train_test_split\n",
    "from sklearn.metrics import mean_squared_error\n",
    "from sklearn.preprocessing import PolynomialFeatures"
   ]
  },
  {
   "cell_type": "markdown",
   "metadata": {},
   "source": [
    "## 1. Álgebra Linear\n",
    "\n",
    "### 1.1 Produto Escalar de Tuplas\n",
    "\n",
    "O produto escalar (ou produto interno) de duas tuplas é a soma dos produtos de seus elementos correspondentes."
   ]
  },
  {
   "cell_type": "markdown",
   "metadata": {},
   "source": [
    "def produto_escalar(a, b):\n",
    "    return sum(x*y for x, y in zip(a, b))\n",
    "\n",
    "a = (1, 2, 3)\n",
    "b = (4, 5, 6)\n",
    "print(f\"Produto escalar de {a} e {b}: {produto_escalar(a, b)}\")"
   ]
  },
  {
   "cell_type": "markdown",
   "metadata": {},
   "source": [
    "### 1.2 Multiplicação de Matrizes\n",
    "\n",
    "A multiplicação de matrizes é uma operação fundamental em álgebra linear."
   ]
  },
  {
   "cell_type": "code",
   "execution_count": null,
   "metadata": {},
   "outputs": [],
   "source": [
    "A = np.array([[1, 2], [3, 4]])\n",
    "B = np.array([[5, 6], [7, 8]])\n",
    "C = np.dot(A, B)\n",
    "print(\"Multiplicação de matrizes:\")\n",
    "print(f\"A:\\n{A}\")\n",
    "print(f\"B:\\n{B}\")\n",
    "print(f\"A * B:\\n{C}\")"
   ]
  },
  {
   "cell_type": "markdown",
   "metadata": {},
   "source": [
    "### 1.3 Combinação Linear\n",
    "\n",
    "Uma combinação linear é a soma de vetores multiplicados por escalares."
   ]
  },
  {
   "cell_type": "code",
   "execution_count": null,
   "metadata": {},
   "outputs": [],
   "source": [
    "def combinacao_linear(vetores, coeficientes):\n",
    "    return sum(c*v for c, v in zip(coeficientes, vetores))\n",
    "\n",
    "v1 = np.array([1, 2, 3])\n",
    "v2 = np.array([4, 5, 6])\n",
    "coef = [2, -1]\n",
    "resultado = combinacao_linear([v1, v2], coef)\n",
    "print(f\"Combinação linear: {coef[0]}*{v1} + {coef[1]}*{v2} = {resultado}\")"
   ]
  },
  {
   "cell_type": "markdown",
   "metadata": {},
   "source": [
    "## 2. Matrizes\n",
    "\n",
    "### 2.1 Representação de Dados em Matrizes"
   ]
  },
  {
   "cell_type": "code",
   "execution_count": null,
   "metadata": {},
   "outputs": [],
   "source": [
    "# Exemplo de conjunto de dados\n",
    "dados = np.array([\n",
    "    [1, 2, 3],\n",
    "    [4, 5, 6],\n",
    "    [7, 8, 9]\n",
    "])\n",
    "print(\"Matriz de dados:\")\n",
    "print(dados)"
   ]
  },
  {
   "cell_type": "markdown",
   "metadata": {},
   "source": [
    "### 2.2 Organização de Problemas como Operações Matriciais\n",
    "\n",
    "Muitos problemas em machine learning podem ser expressos como operações matriciais."
   ]
  },
  {
   "cell_type": "code",
   "execution_count": null,
   "metadata": {},
   "outputs": [],
   "source": [
    "# Exemplo: transformação linear\n",
    "A = np.array([[2, 0], [0, 3]])\n",
    "x = np.array([1, 1])\n",
    "y = np.dot(A, x)\n",
    "print(f\"Transformação linear: A * x = {y}\")"
   ]
  },
  {
   "cell_type": "markdown",
   "metadata": {},
   "source": [
    "## 3. Singular Value Decomposition (SVD)\n",
    "\n",
    "SVD é uma técnica de fatoração de matrizes útil para redução de dimensionalidade e análise de dados.\n"
   ]
  },
  {
   "cell_type": "code",
   "execution_count": null,
   "metadata": {},
   "outputs": [],
   "source": [
    "# Exemplo de SVD\n",
    "X = np.array([[1, 2, 3], [4, 5, 6], [7, 8, 9]])\n",
    "svd = TruncatedSVD(n_components=2)\n",
    "X_reduzido = svd.fit_transform(X)\n",
    "\n",
    "print(\"Matriz original:\")\n",
    "print(X)\n",
    "print(\"\\nMatriz reduzida:\")\n",
    "print(X_reduzido)\n",
    "\n",
    "# Identificação de outliers (exemplo simplificado)\n",
    "distancias = np.sum(X_reduzido**2, axis=1)\n",
    "threshold = np.percentile(distancias, 95)\n",
    "outliers = np.where(distancias > threshold)[0]\n",
    "print(f\"\\nÍndices dos possíveis outliers: {outliers}\")\n",
    "\n",
    "# Similaridade por distância cosseno\n",
    "def cosine_similarity(a, b):\n",
    "    return np.dot(a, b) / (np.linalg.norm(a) * np.linalg.norm(b))\n",
    "\n",
    "sim = cosine_similarity(X_reduzido[0], X_reduzido[1])\n",
    "print(f\"\\nSimilaridade cosseno entre os dois primeiros pontos: {sim}\")"
   ]
  },
  {
   "cell_type": "markdown",
   "metadata": {},
   "source": [
    "## 4. Clustering\n",
    "\n",
    "### 4.1 K-means\n",
    "\n",
    "K-means é um algoritmo de clustering que agrupa dados em k clusters.\n"
   ]
  },
  {
   "cell_type": "code",
   "execution_count": null,
   "metadata": {},
   "outputs": [],
   "source": [
    "# Exemplo de K-means\n",
    "X = np.array([[1, 2], [1.5, 1.8], [5, 8], [8, 8], [1, 0.6], [9, 11]])\n",
    "\n",
    "kmeans = KMeans(n_clusters=2, random_state=42)\n",
    "kmeans.fit(X)\n",
    "\n",
    "plt.scatter(X[:, 0], X[:, 1], c=kmeans.labels_, cmap='viridis')\n",
    "plt.scatter(kmeans.cluster_centers_[:, 0], kmeans.cluster_centers_[:, 1], marker='x', s=200, linewidths=3, color='r')\n",
    "plt.title('K-means Clustering')\n",
    "plt.show()"
   ]
  },
  {
   "cell_type": "markdown",
   "metadata": {},
   "source": [
    "### 4.2 Silhouette Score\n",
    "\n",
    "O Silhouette Score é uma medida de quão bem cada ponto se encaixa em seu cluster atribuído.\n"
   ]
  },
  {
   "cell_type": "code",
   "execution_count": null,
   "metadata": {},
   "outputs": [],
   "source": [
    "silhouette_avg = silhouette_score(X, kmeans.labels_)\n",
    "print(f\"Silhouette Score médio: {silhouette_avg}\")"
   ]
  },
  {
   "cell_type": "markdown",
   "metadata": {},
   "source": [
    "## 5. Otimização\n",
    "\n",
    "### 5.1 Gradient Descent\n",
    "\n",
    "Gradient Descent é um algoritmo de otimização usado para encontrar mínimos de funções."
   ]
  },
  {
   "cell_type": "code",
   "execution_count": null,
   "metadata": {},
   "outputs": [],
   "source": [
    "def funcao_objetivo(x):\n",
    "    return x**2 + 5*x + 6\n",
    "\n",
    "def derivada(x):\n",
    "    return 2*x + 5\n",
    "\n",
    "def gradient_descent(learning_rate, num_iterations):\n",
    "    x = 0  # Ponto inicial\n",
    "    for _ in range(num_iterations):\n",
    "        grad = derivada(x)\n",
    "        x = x - learning_rate * grad\n",
    "    return x\n",
    "\n",
    "resultado = gradient_descent(0.1, 100)\n",
    "print(f\"Mínimo encontrado: x = {resultado}, f(x) = {funcao_objetivo(resultado)}\")\n",
    "\n",
    "# Visualização\n",
    "x = np.linspace(-10, 5, 100)\n",
    "y = funcao_objetivo(x)\n",
    "plt.plot(x, y)\n",
    "plt.scatter([resultado], [funcao_objetivo(resultado)], color='red')\n",
    "plt.title('Função Objetivo e Mínimo Encontrado')\n",
    "plt.show()"
   ]
  },
  {
   "cell_type": "markdown",
   "metadata": {},
   "source": [
    "## 6. Regressão Linear\n",
    "\n",
    "A regressão linear modela a relação entre variáveis independentes e uma variável dependente.\n"
   ]
  },
  {
   "cell_type": "code",
   "execution_count": null,
   "metadata": {},
   "outputs": [],
   "source": [
    "# Exemplo de regressão linear\n",
    "X = np.array([[1], [2], [3], [4], [5]])\n",
    "y = np.array([2, 4, 5, 4, 5])\n",
    "\n",
    "model = LinearRegression()\n",
    "model.fit(X, y)\n",
    "\n",
    "print(f\"Coeficiente: {model.coef_[0]}\")\n",
    "print(f\"Intercepto: {model.intercept_}\")\n",
    "\n",
    "plt.scatter(X, y)\n",
    "plt.plot(X, model.predict(X), color='red')\n",
    "plt.title('Regressão Linear')\n",
    "plt.show()"
   ]
  },
  {
   "cell_type": "markdown",
   "metadata": {},
   "source": [
    "## 7. Feature Engineering\n",
    "\n",
    "### 7.1 Transformação Polinomial"
   ]
  },
  {
   "cell_type": "code",
   "execution_count": null,
   "metadata": {},
   "outputs": [],
   "source": [
    "X = np.array([[1], [2], [3], [4], [5]])\n",
    "y = np.array([1, 4, 9, 16, 25])\n",
    "\n",
    "poly = PolynomialFeatures(degree=2)\n",
    "X_poly = poly.fit_transform(X)\n",
    "\n",
    "model = LinearRegression()\n",
    "model.fit(X_poly, y)\n",
    "\n",
    "X_test = np.linspace(0, 6, 100).reshape(-1, 1)\n",
    "X_test_poly = poly.transform(X_test)\n",
    "\n",
    "plt.scatter(X, y)\n",
    "plt.plot(X_test, model.predict(X_test_poly), color='red')\n",
    "plt.title('Regressão Polinomial')\n",
    "plt.show()"
   ]
  },
  {
   "cell_type": "markdown",
   "metadata": {},
   "source": [
    "## 8. Aplicação\n",
    "\n",
    "### 8.1 Análise Exploratória, Construção e Avaliação de Modelo"
   ]
  },
  {
   "cell_type": "code",
   "execution_count": null,
   "metadata": {},
   "outputs": [],
   "source": [
    "# Gerando dados sintéticos\n",
    "np.random.seed(42)\n",
    "X = np.random.rand(100, 1) * 10\n",
    "y = 2 * X + 1 + np.random.randn(100, 1)\n",
    "\n",
    "# Divisão treino-teste\n",
    "X_train, X_test, y_train, y_test = train_test_split(X, y, test_size=0.2, random_state=42)\n",
    "\n",
    "# Construção do modelo\n",
    "model = LinearRegression()\n",
    "model.fit(X_train, y_train)\n",
    "\n",
    "# Avaliação do modelo\n",
    "y_pred = model.predict(X_test)\n",
    "mse = mean_squared_error(y_test, y_pred)\n",
    "print(f\"Erro Quadrático Médio: {mse}\")\n",
    "\n",
    "# Visualização\n",
    "plt.scatter(X_train, y_train, label='Dados de Treino')\n",
    "plt.scatter(X_test, y_test, label='Dados de Teste')\n",
    "plt.plot(X, model.predict(X), color='red', label='Regressão')\n",
    "plt.legend()\n",
    "plt.title('Modelo de Regressão Linear')\n",
    "plt.show()"
   ]
  }
 ],
 "metadata": {
  "kernelspec": {
   "display_name": "Python 3",
   "language": "python",
   "name": "python3"
  },
  "language_info": {
   "codemirror_mode": {
    "name": "ipython",
    "version": 3
   },
   "file_extension": ".py",
   "mimetype": "text/x-python",
   "name": "python",
   "nbconvert_exporter": "python",
   "pygments_lexer": "ipython3",
   "version": "3.11.5"
  }
 },
 "nbformat": 4,
 "nbformat_minor": 2
}
