{
 "cells": [
  {
   "cell_type": "markdown",
   "metadata": {},
   "source": [
    "# Resumo de Machine Learning\n",
    "\n",
    "Este notebook é um resumo dos principais tópicos de Machine Learning que serão abordados na prova. Inclui explicações teóricas, demonstrações e exemplos práticos.\n",
    "\n",
    "## Álgebra Linear\n",
    "\n",
    "### Produto Escalar de Tuplas\n",
    "\n",
    "O produto escalar é uma operação fundamental em álgebra linear que calcula a soma do produto dos elementos correspondentes de duas tuplas (vetores).\n",
    "\n",
    "**Fórmula:**\n",
    "\n",
    "$$\n",
    "\\mathbf{a} \\cdot \\mathbf{b} = \\sum_{i=1}^{n} a_i b_i\n",
    "$$\n",
    "\n",
    "**Exemplo:**"
   ]
  },
  {
   "cell_type": "code",
   "execution_count": 11,
   "metadata": {},
   "outputs": [
    {
     "name": "stdout",
     "output_type": "stream",
     "text": [
      "O produto escalar de [1 2 3] e [4 5 6] é 32\n"
     ]
    }
   ],
   "source": [
    "import numpy as np\n",
    "\n",
    "a = np.array([1, 2, 3])\n",
    "b = np.array([4, 5, 6])\n",
    "\n",
    "produto_escalar = np.dot(a, b)\n",
    "print(f\"O produto escalar de {a} e {b} é {produto_escalar}\")"
   ]
  },
  {
   "cell_type": "markdown",
   "metadata": {},
   "source": [
    "**Saída:**\n",
    "\n",
    "```\n",
    "O produto escalar de [1 2 3] e [4 5 6] é 32\n",
    "```\n",
    "\n",
    "### Multiplicação de Matrizes\n",
    "\n",
    "A multiplicação de matrizes é usada para compor transformações lineares ou para resolver sistemas de equações.\n",
    "\n",
    "**Regra:**\n",
    "\n",
    "Seja $ A $ uma matriz $ m \\times n $ e $ B $ uma matriz $ n \\times p $, então o produto $ C = AB $ é uma matriz $ m \\times p $.\n",
    "\n",
    "**Exemplo:**"
   ]
  },
  {
   "cell_type": "code",
   "execution_count": 12,
   "metadata": {},
   "outputs": [
    {
     "name": "stdout",
     "output_type": "stream",
     "text": [
      "O produto das matrizes A e B é:\n",
      " [[19 22]\n",
      " [43 50]]\n"
     ]
    }
   ],
   "source": [
    "A = np.array([[1, 2],\n",
    "              [3, 4]])\n",
    "B = np.array([[5, 6],\n",
    "              [7, 8]])\n",
    "\n",
    "C = np.matmul(A, B)\n",
    "print(\"O produto das matrizes A e B é:\\n\", C)"
   ]
  },
  {
   "cell_type": "markdown",
   "metadata": {},
   "source": [
    "**Saída:**\n",
    "\n",
    "```\n",
    "O produto das matrizes A e B é:\n",
    " [[19 22]\n",
    " [43 50]]\n",
    "```\n",
    "\n",
    "### Combinação Linear\n",
    "\n",
    "Uma combinação linear é uma expressão construída a partir de um conjunto de vetores multiplicados por escalares e somados.\n",
    "\n",
    "**Exemplo:**\n",
    "\n",
    "Dados os vetores $ v_1 $ e $ v_2 $ e escalares $ \\alpha $ e $ \\beta $:\n"
   ]
  },
  {
   "cell_type": "code",
   "execution_count": 13,
   "metadata": {},
   "outputs": [
    {
     "name": "stdout",
     "output_type": "stream",
     "text": [
      "A combinação linear é [3 4]\n"
     ]
    }
   ],
   "source": [
    "v1 = np.array([1, 0])\n",
    "v2 = np.array([0, 1])\n",
    "alpha = 3\n",
    "beta = 4\n",
    "\n",
    "comb_linear = alpha * v1 + beta * v2\n",
    "print(f\"A combinação linear é {comb_linear}\")"
   ]
  },
  {
   "cell_type": "markdown",
   "metadata": {},
   "source": [
    "**Saída:**\n",
    "\n",
    "```\n",
    "A combinação linear é [3 4]\n",
    "```\n",
    "\n",
    "## Matrizes\n",
    "\n",
    "### Representação de Dados em Matrizes\n",
    "\n",
    "Em Machine Learning, os dados são frequentemente representados como matrizes, onde cada linha representa uma amostra e cada coluna, uma feature.\n",
    "\n",
    "**Exemplo:**\n"
   ]
  },
  {
   "cell_type": "code",
   "execution_count": 14,
   "metadata": {},
   "outputs": [
    {
     "name": "stdout",
     "output_type": "stream",
     "text": [
      "Matriz de dados:\n",
      " [[1.5 2.3]\n",
      " [3.1 0.7]\n",
      " [0.8 4.5]]\n"
     ]
    }
   ],
   "source": [
    "# Matriz de dados com 3 amostras e 2 features\n",
    "X = np.array([[1.5, 2.3],\n",
    "              [3.1, 0.7],\n",
    "              [0.8, 4.5]])\n",
    "\n",
    "print(\"Matriz de dados:\\n\", X)"
   ]
  },
  {
   "cell_type": "markdown",
   "metadata": {},
   "source": [
    "### Organizar um Problema como Operações Matriciais\n",
    "\n",
    "Operações matriciais podem simplificar cálculos, como na regressão linear, onde usamos a equação normal.\n",
    "\n",
    "**Equação Normal:**\n",
    "\n",
    "$$\n",
    "\\theta = (X^TX)^{-1}X^Ty\n",
    "$$\n",
    "\n",
    "## Singular Value Decomposition (SVD)\n",
    "\n",
    "SVD é uma fatoração de uma matriz real ou complexa. É usada em redução de dimensionalidade e processamento de dados.\n",
    "\n",
    "### Interpretação dos Resultados\n",
    "\n",
    "**Identificar Outliers Visualmente ou por Código**\n",
    "\n",
    "Outliers podem ser identificados analisando os componentes principais resultantes do SVD.\n"
   ]
  },
  {
   "cell_type": "code",
   "execution_count": 15,
   "metadata": {},
   "outputs": [
    {
     "data": {
      "image/png": "[encoded data removed]",
      "text/plain": [
       "<Figure size 640x480 with 1 Axes>"
      ]
     },
     "metadata": {},
     "output_type": "display_data"
    }
   ],
   "source": [
    "from sklearn.decomposition import TruncatedSVD\n",
    "\n",
    "# Suponha uma matriz de dados X\n",
    "svd = TruncatedSVD(n_components=2)\n",
    "X_reduced = svd.fit_transform(X)\n",
    "\n",
    "# Visualização\n",
    "import matplotlib.pyplot as plt\n",
    "\n",
    "plt.scatter(X_reduced[:, 0], X_reduced[:, 1])\n",
    "plt.title(\"Dados após SVD\")\n",
    "plt.show()"
   ]
  },
  {
   "cell_type": "markdown",
   "metadata": {},
   "source": [
    "**Similaridade por Distância Cosseno**\n",
    "\n",
    "A distância cosseno mede a similaridade entre vetores.\n"
   ]
  },
  {
   "cell_type": "code",
   "execution_count": 16,
   "metadata": {},
   "outputs": [
    {
     "name": "stdout",
     "output_type": "stream",
     "text": [
      "A similaridade cosseno entre as amostras 0 e 1 é 0.7173448312365569\n"
     ]
    }
   ],
   "source": [
    "from sklearn.metrics.pairwise import cosine_similarity\n",
    "\n",
    "similaridade = cosine_similarity([X[0]], [X[1]])\n",
    "print(f\"A similaridade cosseno entre as amostras 0 e 1 é {similaridade[0][0]}\")"
   ]
  },
  {
   "cell_type": "markdown",
   "metadata": {},
   "source": [
    "## Clustering\n",
    "\n",
    "### K-Means: Conceito e Aplicação\n",
    "\n",
    "O k-means é um algoritmo de clustering que particiona n observações em k clusters nos quais cada observação pertence ao cluster com a média mais próxima.\n",
    "\n",
    "**Exemplo:**"
   ]
  },
  {
   "cell_type": "code",
   "execution_count": 17,
   "metadata": {},
   "outputs": [
    {
     "name": "stderr",
     "output_type": "stream",
     "text": [
      "c:\\Users\\iancd\\AppData\\Local\\Programs\\Python\\Python311\\Lib\\site-packages\\sklearn\\cluster\\_kmeans.py:1412: FutureWarning: The default value of `n_init` will change from 10 to 'auto' in 1.4. Set the value of `n_init` explicitly to suppress the warning\n",
      "  super()._check_params_vs_input(X, default_n_init=10)\n"
     ]
    },
    {
     "data": {
      "image/png": "[encoded data removed]",
      "text/plain": [
       "<Figure size 640x480 with 1 Axes>"
      ]
     },
     "metadata": {},
     "output_type": "display_data"
    }
   ],
   "source": [
    "from sklearn.cluster import KMeans\n",
    "\n",
    "kmeans = KMeans(n_clusters=2)\n",
    "kmeans.fit(X)\n",
    "labels = kmeans.labels_\n",
    "\n",
    "plt.scatter(X[:, 0], X[:, 1], c=labels)\n",
    "plt.title(\"Clustering com K-Means\")\n",
    "plt.show()"
   ]
  },
  {
   "cell_type": "markdown",
   "metadata": {},
   "source": [
    "### Performance: Silhouette\n",
    "\n",
    "O coeficiente de silhouette mede o quão semelhante uma amostra é ao seu próprio cluster em comparação com outros clusters.\n",
    "\n",
    "**Interpretação:**\n",
    "\n",
    "Valores próximos de 1 indicam que a amostra está bem agrupada."
   ]
  },
  {
   "cell_type": "code",
   "execution_count": 18,
   "metadata": {},
   "outputs": [
    {
     "name": "stdout",
     "output_type": "stream",
     "text": [
      "O coeficiente de silhouette é 0.17016103813063058\n"
     ]
    }
   ],
   "source": [
    "from sklearn.metrics import silhouette_score\n",
    "\n",
    "score = silhouette_score(X, labels)\n",
    "print(f\"O coeficiente de silhouette é {score}\")"
   ]
  },
  {
   "cell_type": "markdown",
   "metadata": {},
   "source": [
    "## Otimização\n",
    "\n",
    "### Mínimo Global vs. Mínimos Locais\n",
    "\n",
    "- **Mínimo Global:** O ponto mais baixo de toda a função.\n",
    "- **Mínimo Local:** O ponto mais baixo em uma vizinhança.\n",
    "\n",
    "### Gradient Descent\n",
    "\n",
    "É um algoritmo de otimização que ajusta os parâmetros para minimizar uma função de custo.\n",
    "\n",
    "#### Implementação Guiada"
   ]
  },
  {
   "cell_type": "code",
   "execution_count": 19,
   "metadata": {},
   "outputs": [
    {
     "name": "stdout",
     "output_type": "stream",
     "text": [
      "O valor otimizado de θ é 2.9999999993888893\n"
     ]
    }
   ],
   "source": [
    "# Função de custo: J(θ) = (θ - 3)^2\n",
    "def custo(theta):\n",
    "    return (theta - 3) ** 2\n",
    "\n",
    "# Gradiente da função de custo\n",
    "def gradiente(theta):\n",
    "    return 2 * (theta - 3)\n",
    "\n",
    "# Gradient Descent\n",
    "theta = 0  # Inicialização\n",
    "alpha = 0.1  # Taxa de aprendizado\n",
    "\n",
    "for _ in range(100):\n",
    "    theta = theta - alpha * gradiente(theta)\n",
    "\n",
    "print(f\"O valor otimizado de θ é {theta}\")"
   ]
  },
  {
   "cell_type": "markdown",
   "metadata": {},
   "source": [
    "#### Análise de Comportamento do Algoritmo\n",
    "\n",
    "- **Mínimos Locais:** O algoritmo pode ficar preso em mínimos locais.\n",
    "- **Taxa de Aprendizado:** Um alpha muito grande pode fazer o algoritmo não convergir.\n",
    "\n",
    "## Regressão Linear\n",
    "\n",
    "### Interpretação do Modelo\n",
    "\n",
    "A regressão linear modela a relação entre uma variável dependente e uma ou mais independentes.\n",
    "\n",
    "**Relação Feature-Peso-Target**\n",
    "\n",
    "O modelo tenta ajustar uma linha que melhor representa os dados, onde os pesos (coeficientes) indicam a influência de cada feature.\n",
    "\n",
    "### Equação Normal\n",
    "\n",
    "Usada para encontrar os valores ótimos dos pesos sem iteração.\n",
    "\n",
    "$$\n",
    "\\theta = (X^TX)^{-1}X^Ty\n",
    "$$\n",
    "\n",
    "**Exemplo:**\n"
   ]
  },
  {
   "cell_type": "code",
   "execution_count": 20,
   "metadata": {},
   "outputs": [
    {
     "ename": "NameError",
     "evalue": "name 'y' is not defined",
     "output_type": "error",
     "traceback": [
      "\u001b[1;31m---------------------------------------------------------------------------\u001b[0m",
      "\u001b[1;31mNameError\u001b[0m                                 Traceback (most recent call last)",
      "Cell \u001b[1;32mIn[20], line 2\u001b[0m\n\u001b[0;32m      1\u001b[0m \u001b[38;5;66;03m# Suponha X e y\u001b[39;00m\n\u001b[1;32m----> 2\u001b[0m theta \u001b[38;5;241m=\u001b[39m np\u001b[38;5;241m.\u001b[39mlinalg\u001b[38;5;241m.\u001b[39minv(X\u001b[38;5;241m.\u001b[39mT \u001b[38;5;241m@\u001b[39m X) \u001b[38;5;241m@\u001b[39m X\u001b[38;5;241m.\u001b[39mT \u001b[38;5;241m@\u001b[39m \u001b[43my\u001b[49m\n\u001b[0;32m      3\u001b[0m \u001b[38;5;28mprint\u001b[39m(\u001b[38;5;124mf\u001b[39m\u001b[38;5;124m\"\u001b[39m\u001b[38;5;124mOs pesos calculados são \u001b[39m\u001b[38;5;132;01m{\u001b[39;00mtheta\u001b[38;5;132;01m}\u001b[39;00m\u001b[38;5;124m\"\u001b[39m)\n",
      "\u001b[1;31mNameError\u001b[0m: name 'y' is not defined"
     ]
    }
   ],
   "source": [
    "# Suponha X e y\n",
    "theta = np.linalg.inv(X.T @ X) @ X.T @ y\n",
    "print(f\"Os pesos calculados são {theta}\")"
   ]
  },
  {
   "cell_type": "markdown",
   "metadata": {},
   "source": [
    "## Feature Engineering\n",
    "\n",
    "### Polinômios\n",
    "\n",
    "Transformar features em polinomiais pode aumentar a capacidade do modelo de capturar relações não lineares.\n",
    "\n",
    "**Exemplo:**"
   ]
  },
  {
   "cell_type": "code",
   "execution_count": null,
   "metadata": {},
   "outputs": [],
   "source": [
    "from sklearn.preprocessing import PolynomialFeatures\n",
    "\n",
    "poly = PolynomialFeatures(degree=2)\n",
    "X_poly = poly.fit_transform(X)"
   ]
  },
  {
   "cell_type": "markdown",
   "metadata": {},
   "source": [
    "### Outras Transformações\n",
    "\n",
    "- **Normalização**\n",
    "- **Padronização**\n",
    "- **Log-transform**\n",
    "\n",
    "## Aplicação\n",
    "\n",
    "### Análise Exploratória\n",
    "\n",
    "Inclui visualizar distribuições, relações entre features e identificação de outliers.\n",
    "\n",
    "### Construção de Modelo\n",
    "\n",
    "Combinar modelos lineares com feature engineering para melhorar a performance.\n"
   ]
  },
  {
   "cell_type": "code",
   "execution_count": null,
   "metadata": {},
   "outputs": [],
   "source": [
    "from sklearn.linear_model import LinearRegression\n",
    "\n",
    "modelo = LinearRegression()\n",
    "modelo.fit(X_poly, y)"
   ]
  },
  {
   "cell_type": "markdown",
   "metadata": {},
   "source": [
    "### Avaliação de Modelo\n",
    "\n",
    "#### Separação Treino-Teste"
   ]
  },
  {
   "cell_type": "code",
   "execution_count": null,
   "metadata": {},
   "outputs": [],
   "source": [
    "from sklearn.model_selection import train_test_split\n",
    "\n",
    "X_treino, X_teste, y_treino, y_teste = train_test_split(X, y, test_size=0.2)"
   ]
  },
  {
   "cell_type": "markdown",
   "metadata": {},
   "source": [
    "#### Medida de Desempenho\n",
    "\n",
    "Usar métricas como MSE (Mean Squared Error) para regressão."
   ]
  },
  {
   "cell_type": "code",
   "execution_count": null,
   "metadata": {},
   "outputs": [],
   "source": [
    "from sklearn.metrics import mean_squared_error\n",
    "\n",
    "y_pred = modelo.predict(X_teste)\n",
    "mse = mean_squared_error(y_teste, y_pred)\n",
    "print(f\"O MSE do modelo é {mse}\")"
   ]
  }
 ],
 "metadata": {
  "kernelspec": {
   "display_name": "Python 3",
   "language": "python",
   "name": "python3"
  },
  "language_info": {
   "codemirror_mode": {
    "name": "ipython",
    "version": 3
   },
   "file_extension": ".py",
   "mimetype": "text/x-python",
   "name": "python",
   "nbconvert_exporter": "python",
   "pygments_lexer": "ipython3",
   "version": "3.11.5"
  }
 },
 "nbformat": 4,
 "nbformat_minor": 2
}
